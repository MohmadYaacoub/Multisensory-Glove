{
  "nbformat": 4,
  "nbformat_minor": 0,
  "metadata": {
    "colab": {
      "provenance": [],
      "authorship_tag": "ABX9TyPbUct6Otb3XnAs51AORz7J",
      "include_colab_link": true
    },
    "kernelspec": {
      "name": "python3",
      "display_name": "Python 3"
    },
    "language_info": {
      "name": "python"
    }
  },
  "cells": [
    {
      "cell_type": "markdown",
      "metadata": {
        "id": "view-in-github",
        "colab_type": "text"
      },
      "source": [
        "<a href=\"https://colab.research.google.com/github/MohmadYaacoub/Data/blob/main/Data_generator.ipynb\" target=\"_parent\"><img src=\"https://colab.research.google.com/assets/colab-badge.svg\" alt=\"Open In Colab\"/></a>"
      ]
    },
    {
      "cell_type": "code",
      "execution_count": null,
      "metadata": {
        "id": "3S9ovvwoP6O4"
      },
      "outputs": [],
      "source": [
        "import glob\n",
        "import pandas as pd\n",
        "import numpy as np\n",
        "\n",
        "def data_generator(base_file_path, max_files_per_class=50):\n",
        "    # Define the dictionary to store file paths for each category\n",
        "    text_files = {\n",
        "        \"Agrapheuse Comb\": [], \"Apple\": [], \"Battery\": [], \"Book\": [], \"Bottle of water\": [], \"Brush teeth\": [],\n",
        "        \"Calculator\": [], \"Car remote\": [], \"Clamp\": [], \"Coin\": [], \"Cup\": [],\n",
        "        \"Forke\": [], \"Key\": [], \"keyboard\": [], \"Mouse\": [], \"Orange\": [],\n",
        "        \"Pen\": [], \"Pepsi\": [], \"Phone Comb\": [], \"Plate\": [], \"Remote\": [],\n",
        "        \"Scissors Comb\": [], \"Scotch Comb\": [], \"Screwdriver\": [], \"Shampo Comb\": [], \"Spoon\": [], \"Spray\": [], \"Umbrella\": []\n",
        "    }\n",
        "\n",
        "    # Retrieve all directories in the base file path\n",
        "    data = glob.glob(base_file_path + \"/*\")\n",
        "\n",
        "    # Assign file paths to the respective categories\n",
        "    for directory_path in data:\n",
        "        for key in text_files.keys():\n",
        "            if key in directory_path:\n",
        "                text_files[key].append(directory_path)\n",
        "\n",
        "    # Initialize lists to hold the data and labels\n",
        "    X, y = [], []\n",
        "    class_counts = {key: 0 for key in text_files.keys()}  # Initialize class counts\n",
        "\n",
        "    # Process each category\n",
        "    for label, (key, directory_paths) in enumerate(text_files.items(), start=0):\n",
        "        for directory_path in directory_paths:\n",
        "            files_in_directory = glob.glob(directory_path + \"/*\")\n",
        "            for file_path in files_in_directory:\n",
        "                df = pd.read_csv(file_path, header=None)\n",
        "                df_array = df.iloc[1:55, :35].values\n",
        "                X_text.append(df_array)\n",
        "                y_text.append(label)  # Assign numeric label\n",
        "                class_counts[key] += 1  # Increment class count\n",
        "\n",
        "                # Break if reached the maximum number of files for this class\n",
        "                if class_counts[key] == max_files_per_class:\n",
        "                    break\n",
        "            # Break if reached the maximum number of files for this class\n",
        "            if class_counts[key] == max_files_per_class:\n",
        "                break\n",
        "        print(f\"Class {key}: {class_counts[key]} files\")\n",
        "\n",
        "    # Convert lists to NumPy arrays\n",
        "    X = np.asarray(X, dtype=np.float32)\n",
        "    y = np.asarray(y, dtype=np.int32)\n",
        "\n",
        "    print(\"X shape:\", X.shape)\n",
        "    print(\"y shape:\", y.shape)\n",
        "\n",
        "    return X, y\n",
        "\n",
        "# Example usage:\n",
        "file_path = \"C:/Users/mhamad.yackoub/OneDrive - unige.it/Desktop/VScode/Multimodal Glove/Csv Fusion\"\n",
        "X, y = data_generator(file_path, max_files_per_class=50)\n"
      ]
    }
  ]
}